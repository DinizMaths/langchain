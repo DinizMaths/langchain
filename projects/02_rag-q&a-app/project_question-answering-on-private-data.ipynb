{
 "cells": [
  {
   "cell_type": "code",
   "execution_count": 2,
   "id": "b748fd20",
   "metadata": {},
   "outputs": [],
   "source": [
    "import os\n",
    "\n",
    "from dotenv import load_dotenv, find_dotenv"
   ]
  },
  {
   "cell_type": "code",
   "execution_count": 3,
   "id": "e373fd89",
   "metadata": {},
   "outputs": [
    {
     "data": {
      "text/plain": [
       "True"
      ]
     },
     "execution_count": 3,
     "metadata": {},
     "output_type": "execute_result"
    }
   ],
   "source": [
    "load_dotenv(find_dotenv(), override=True)"
   ]
  },
  {
   "cell_type": "code",
   "execution_count": 4,
   "id": "28cf1c7f",
   "metadata": {},
   "outputs": [],
   "source": [
    "PINECONE_API_KEY = os.environ.get(\"PINECONE_API_KEY\")\n",
    "OPENAI_API_KEY = os.environ.get(\"OPENAI_API_KEY\")"
   ]
  },
  {
   "cell_type": "markdown",
   "id": "07900179",
   "metadata": {},
   "source": [
    "### Loading Documents"
   ]
  },
  {
   "cell_type": "code",
   "execution_count": 5,
   "id": "e1ae19b5",
   "metadata": {},
   "outputs": [],
   "source": [
    "def load_document(file):\n",
    "    import os\n",
    "    name, extension = os.path.splitext(file)\n",
    "\n",
    "    if extension == '.pdf':\n",
    "        from langchain.document_loaders import PyPDFLoader\n",
    "\n",
    "        print(f'Loading {file}')\n",
    "\n",
    "        loader = PyPDFLoader(file)\n",
    "    elif extension == '.docx':\n",
    "        from langchain.document_loaders import Docx2txtLoader\n",
    "\n",
    "        print(f'Loading {file}')\n",
    "\n",
    "        loader = Docx2txtLoader(file)\n",
    "    elif extension == '.txt':\n",
    "        from langchain.document_loaders import TextLoader\n",
    "\n",
    "        loader = TextLoader(file)\n",
    "    else:\n",
    "        print('Document format is not supported!')\n",
    "\n",
    "        return None\n",
    "\n",
    "    data = loader.load()\n",
    "\n",
    "    return data  "
   ]
  },
  {
   "cell_type": "code",
   "execution_count": 6,
   "id": "38eb372c",
   "metadata": {},
   "outputs": [],
   "source": [
    "def load_from_wikipedia(query, lang='en', load_max_docs=2):\n",
    "    from langchain.document_loaders import WikipediaLoader\n",
    "\n",
    "    loader = WikipediaLoader(query=query, lang=lang, load_max_docs=load_max_docs)\n",
    "    data = loader.load()\n",
    "\n",
    "    return data"
   ]
  },
  {
   "cell_type": "markdown",
   "id": "367bb8ad",
   "metadata": {},
   "source": [
    "### Chunking Data"
   ]
  },
  {
   "cell_type": "code",
   "execution_count": 7,
   "id": "62c3cb39",
   "metadata": {},
   "outputs": [],
   "source": [
    "def chunk_data(data, chunk_size=256):\n",
    "    from langchain.text_splitter import RecursiveCharacterTextSplitter\n",
    "\n",
    "    text_splitter = RecursiveCharacterTextSplitter(chunk_size=chunk_size, chunk_overlap=0)\n",
    "    chunks = text_splitter.split_documents(data)\n",
    "\n",
    "    return chunks    "
   ]
  },
  {
   "cell_type": "markdown",
   "id": "2b298177",
   "metadata": {},
   "source": [
    "### Calculating Cost"
   ]
  },
  {
   "cell_type": "code",
   "execution_count": 8,
   "id": "add191c6",
   "metadata": {},
   "outputs": [],
   "source": [
    "def print_embedding_cost(texts):\n",
    "    import tiktoken\n",
    "\n",
    "    enc = tiktoken.encoding_for_model('text-embedding-3-small')\n",
    "    total_tokens = sum([len(enc.encode(page.page_content)) for page in texts])\n",
    "    # check prices here: https://openai.com/pricing\n",
    "    print(f'Total Tokens: {total_tokens}')\n",
    "    print(f'Embedding Cost in USD: {total_tokens * 0.02:.6f}')"
   ]
  },
  {
   "cell_type": "markdown",
   "id": "27f92afa",
   "metadata": {},
   "source": [
    "### Embedding and Uploading to a Vector Database (Pinecone)"
   ]
  },
  {
   "cell_type": "code",
   "execution_count": 9,
   "id": "0c72c3cf",
   "metadata": {},
   "outputs": [],
   "source": [
    "def insert_or_fetch_embeddings(index_name, chunks):\n",
    "    import pinecone\n",
    "    from langchain_community.vectorstores import Pinecone\n",
    "    from langchain_openai import OpenAIEmbeddings\n",
    "    from pinecone import ServerlessSpec\n",
    "\n",
    "    pc = pinecone.Pinecone()\n",
    "        \n",
    "    embeddings = OpenAIEmbeddings(model='text-embedding-3-small', dimensions=1536)\n",
    "\n",
    "    # loading from existing index\n",
    "    if index_name in pc.list_indexes().names():\n",
    "        print(f'Index {index_name} already exists. Loading embeddings ... ', end='')\n",
    "        vector_store = Pinecone.from_existing_index(index_name, embeddings)\n",
    "        print('Ok')\n",
    "    else:\n",
    "        print(f'Creating index {index_name} and embeddings ...', end='')\n",
    "\n",
    "        pc.create_index(\n",
    "            name=index_name,\n",
    "            dimension=1536,\n",
    "            metric='cosine',\n",
    "            spec=ServerlessSpec(\n",
    "                cloud=\"aws\",\n",
    "                region=\"us-east-1\"\n",
    "            ) \n",
    "        )\n",
    "\n",
    "        vector_store = Pinecone.from_documents(chunks, embeddings, index_name=index_name)\n",
    "        print('Ok')\n",
    "        \n",
    "    return vector_store\n",
    "    "
   ]
  },
  {
   "cell_type": "code",
   "execution_count": 10,
   "id": "52ef1091",
   "metadata": {},
   "outputs": [],
   "source": [
    "def delete_pinecone_index(index_name='all'):\n",
    "    import pinecone\n",
    "    pc = pinecone.Pinecone()\n",
    "    \n",
    "    if index_name == 'all':\n",
    "        indexes = pc.list_indexes().names()\n",
    "        print('Deleting all indexes ... ')\n",
    "        for index in indexes:\n",
    "            pc.delete_index(index)\n",
    "        print('Ok')\n",
    "    else:\n",
    "        print(f'Deleting index {index_name} ...', end='')\n",
    "        pc.delete_index(index_name)\n",
    "        print('Ok')\n",
    "    "
   ]
  },
  {
   "cell_type": "markdown",
   "id": "462a94cb",
   "metadata": {},
   "source": [
    "### Asking and Getting Answers"
   ]
  },
  {
   "cell_type": "code",
   "execution_count": 11,
   "id": "08b0a508",
   "metadata": {},
   "outputs": [],
   "source": [
    "def ask_and_get_answer(vector_store, q, k=3):\n",
    "    from langchain.chains import RetrievalQA\n",
    "    from langchain_openai import ChatOpenAI\n",
    "\n",
    "    llm = ChatOpenAI(model='gpt-3.5-turbo', temperature=1)\n",
    "\n",
    "    retriever = vector_store.as_retriever(search_type='similarity', search_kwargs={'k': k})\n",
    "\n",
    "    chain = RetrievalQA.from_chain_type(llm=llm, chain_type=\"stuff\", retriever=retriever)\n",
    "    \n",
    "    answer = chain.invoke(q)\n",
    "    return answer\n"
   ]
  },
  {
   "cell_type": "markdown",
   "id": "c1efe8fc",
   "metadata": {},
   "source": [
    "### Running Code"
   ]
  },
  {
   "cell_type": "markdown",
   "id": "8ad0e41f-d82b-462d-8d51-f5cc83d836c5",
   "metadata": {},
   "source": [
    "#### Ask a PDF"
   ]
  },
  {
   "cell_type": "code",
   "execution_count": 12,
   "id": "23fd7147",
   "metadata": {},
   "outputs": [
    {
     "name": "stdout",
     "output_type": "stream",
     "text": [
      "Loading files/us_constitution.pdf\n",
      "You have 41 pages in your data\n",
      "There are 1137 characters in the page\n"
     ]
    }
   ],
   "source": [
    "data = load_document('files/us_constitution.pdf')\n",
    "\n",
    "print(f'You have {len(data)} pages in your data')\n",
    "print(f'There are {len(data[20].page_content)} characters in the page')"
   ]
  },
  {
   "cell_type": "code",
   "execution_count": 13,
   "id": "d11b7652",
   "metadata": {},
   "outputs": [],
   "source": [
    "# data = load_document('files/the_great_gatsby.docx')\n",
    "# print(data[0].page_content)"
   ]
  },
  {
   "cell_type": "code",
   "execution_count": 14,
   "id": "6054462e",
   "metadata": {},
   "outputs": [],
   "source": [
    "# data = load_from_wikipedia('GPT-4', 'de')\n",
    "# print(data[0].page_content)"
   ]
  },
  {
   "cell_type": "code",
   "execution_count": 15,
   "id": "64b5d7f5",
   "metadata": {},
   "outputs": [
    {
     "name": "stdout",
     "output_type": "stream",
     "text": [
      "190\n"
     ]
    }
   ],
   "source": [
    "chunks = chunk_data(data)\n",
    "\n",
    "print(len(chunks))"
   ]
  },
  {
   "cell_type": "code",
   "execution_count": 16,
   "id": "faa75175",
   "metadata": {},
   "outputs": [
    {
     "name": "stdout",
     "output_type": "stream",
     "text": [
      "Total Tokens: 16711\n",
      "Embedding Cost in USD: 334.220000\n"
     ]
    }
   ],
   "source": [
    "print_embedding_cost(chunks)"
   ]
  },
  {
   "cell_type": "code",
   "execution_count": 17,
   "id": "8f4f798d",
   "metadata": {},
   "outputs": [
    {
     "name": "stderr",
     "output_type": "stream",
     "text": [
      "/home/matheus/langchain/venv-langchain/lib/python3.10/site-packages/pinecone/data/index.py:1: TqdmWarning: IProgress not found. Please update jupyter and ipywidgets. See https://ipywidgets.readthedocs.io/en/stable/user_install.html\n",
      "  from tqdm.autonotebook import tqdm\n"
     ]
    },
    {
     "name": "stdout",
     "output_type": "stream",
     "text": [
      "Deleting all indexes ... \n",
      "Ok\n"
     ]
    }
   ],
   "source": [
    "delete_pinecone_index()"
   ]
  },
  {
   "cell_type": "code",
   "execution_count": 18,
   "id": "8525a620",
   "metadata": {},
   "outputs": [
    {
     "name": "stdout",
     "output_type": "stream",
     "text": [
      "Creating index askadocument and embeddings ...Ok\n"
     ]
    }
   ],
   "source": [
    "index_name = 'askadocument'\n",
    "vector_store = insert_or_fetch_embeddings(index_name=index_name, chunks=chunks)"
   ]
  },
  {
   "cell_type": "code",
   "execution_count": 19,
   "id": "6b158ff1",
   "metadata": {},
   "outputs": [
    {
     "name": "stdout",
     "output_type": "stream",
     "text": [
      "{'query': 'What is the Bill of Rights?', 'result': 'The Bill of Rights refers to the first ten amendments to the United States Constitution. It guarantees individual rights, such as freedom of speech, religion, and the right to bear arms, among others.'}\n"
     ]
    }
   ],
   "source": [
    "q = 'What is the Bill of Rights?'\n",
    "answer = ask_and_get_answer(vector_store, q)\n",
    "\n",
    "print(answer)"
   ]
  },
  {
   "cell_type": "markdown",
   "id": "b409649f-cc34-4de6-83cb-3906ad046fdf",
   "metadata": {},
   "source": [
    "#### While Loop for Asking Questions"
   ]
  },
  {
   "cell_type": "code",
   "execution_count": 20,
   "id": "00ddb48f",
   "metadata": {},
   "outputs": [
    {
     "name": "stdout",
     "output_type": "stream",
     "text": [
      "Write Quit or Exit to quit.\n",
      "\n",
      "Answer: {'query': 'Hello', 'result': 'Hello! How can I assist you today?'}\n",
      "\n",
      " -------------------------------------------------- \n",
      "\n",
      "\n",
      "Answer: {'query': 'What are you doing?', 'result': 'I am providing information related to the Constitution of the United States, based on the text provided. If you have any questions or need clarification, feel free to ask.'}\n",
      "\n",
      " -------------------------------------------------- \n",
      "\n",
      "Quitting ... bye bye!\n"
     ]
    }
   ],
   "source": [
    "import time\n",
    "\n",
    "i = 1\n",
    "print('Write Quit or Exit to quit.')\n",
    "\n",
    "while True:\n",
    "    q = input(f'Question #{i}: ')\n",
    "    i = i + 1\n",
    "\n",
    "    if q.lower() in ['quit', 'exit']:\n",
    "        print('Quitting ... bye bye!')\n",
    "        time.sleep(2)\n",
    "        break\n",
    "    \n",
    "    answer = ask_and_get_answer(vector_store, q)\n",
    "\n",
    "    print(f'\\nAnswer: {answer}')\n",
    "    print(f'\\n {\"-\" * 50} \\n')"
   ]
  },
  {
   "cell_type": "markdown",
   "id": "5c030ca0-ba14-46eb-882a-3d157df48acb",
   "metadata": {},
   "source": [
    "#### Ask Wikipedia"
   ]
  },
  {
   "cell_type": "code",
   "execution_count": 21,
   "id": "775915c4",
   "metadata": {},
   "outputs": [
    {
     "name": "stdout",
     "output_type": "stream",
     "text": [
      "Deleting all indexes ... \n",
      "Ok\n"
     ]
    }
   ],
   "source": [
    "delete_pinecone_index()"
   ]
  },
  {
   "cell_type": "code",
   "execution_count": 22,
   "id": "98ad69bb",
   "metadata": {},
   "outputs": [],
   "source": [
    "data = load_from_wikipedia('Google Gemini', 'de')\n",
    "chunks = chunk_data(data)"
   ]
  },
  {
   "cell_type": "code",
   "execution_count": 23,
   "id": "dcdf2228-26f3-46a5-93d9-cdc1153280fc",
   "metadata": {},
   "outputs": [
    {
     "data": {
      "text/plain": [
       "[Document(metadata={'title': 'Google Gemini', 'summary': 'Google Gemini (ehemals Google Bard) ist ein von Google entwickelter KI-basierter, multimodaler Chatbot. Er wurde als direkte Reaktion auf den Erfolg von ChatGPT entwickelt und im März 2023 in eingeschränkter Kapazität veröffentlicht, bevor er im Laufe des Sommers in weiteren Ländern verfügbar wurde. Google Gemini ist in 40 Sprachen verfügbar.', 'source': 'https://de.wikipedia.org/wiki/Google_Gemini'}, page_content='Google Gemini (ehemals Google Bard) ist ein von Google entwickelter KI-basierter, multimodaler Chatbot. Er wurde als direkte Reaktion auf den Erfolg von ChatGPT entwickelt und im März 2023 in eingeschränkter Kapazität veröffentlicht, bevor er im Laufe des'),\n",
       " Document(metadata={'title': 'Google Gemini', 'summary': 'Google Gemini (ehemals Google Bard) ist ein von Google entwickelter KI-basierter, multimodaler Chatbot. Er wurde als direkte Reaktion auf den Erfolg von ChatGPT entwickelt und im März 2023 in eingeschränkter Kapazität veröffentlicht, bevor er im Laufe des Sommers in weiteren Ländern verfügbar wurde. Google Gemini ist in 40 Sprachen verfügbar.', 'source': 'https://de.wikipedia.org/wiki/Google_Gemini'}, page_content='Sommers in weiteren Ländern verfügbar wurde. Google Gemini ist in 40 Sprachen verfügbar.'),\n",
       " Document(metadata={'title': 'Google Gemini', 'summary': 'Google Gemini (ehemals Google Bard) ist ein von Google entwickelter KI-basierter, multimodaler Chatbot. Er wurde als direkte Reaktion auf den Erfolg von ChatGPT entwickelt und im März 2023 in eingeschränkter Kapazität veröffentlicht, bevor er im Laufe des Sommers in weiteren Ländern verfügbar wurde. Google Gemini ist in 40 Sprachen verfügbar.', 'source': 'https://de.wikipedia.org/wiki/Google_Gemini'}, page_content='== Funktionsweise =='),\n",
       " Document(metadata={'title': 'Google Gemini', 'summary': 'Google Gemini (ehemals Google Bard) ist ein von Google entwickelter KI-basierter, multimodaler Chatbot. Er wurde als direkte Reaktion auf den Erfolg von ChatGPT entwickelt und im März 2023 in eingeschränkter Kapazität veröffentlicht, bevor er im Laufe des Sommers in weiteren Ländern verfügbar wurde. Google Gemini ist in 40 Sprachen verfügbar.', 'source': 'https://de.wikipedia.org/wiki/Google_Gemini'}, page_content='Ähnlich wie OpenAIs Konkurrenzprodukt ChatGPT kann Google Gemini in einer gesprächsähnlichen Art eine Vielzahl von Fragen beantworten. Gemini erlaubt multimodales Arbeiten, das heißt, man kann sowohl diverse Medien wie Sprache oder Fotos eingeben als auch'),\n",
       " Document(metadata={'title': 'Google Gemini', 'summary': 'Google Gemini (ehemals Google Bard) ist ein von Google entwickelter KI-basierter, multimodaler Chatbot. Er wurde als direkte Reaktion auf den Erfolg von ChatGPT entwickelt und im März 2023 in eingeschränkter Kapazität veröffentlicht, bevor er im Laufe des Sommers in weiteren Ländern verfügbar wurde. Google Gemini ist in 40 Sprachen verfügbar.', 'source': 'https://de.wikipedia.org/wiki/Google_Gemini'}, page_content='unterschiedliche Formate, wie Code oder Sprache, ausgegeben bekommen. Allerdings ist Gemini aktuell (Stand Februar 2024), anders als ChatGPT, nicht in der Lage, selbst Bilder zu erstellen – obwohl Google diese Funktion seit Längerem in Aussicht gestellt'),\n",
       " Document(metadata={'title': 'Google Gemini', 'summary': 'Google Gemini (ehemals Google Bard) ist ein von Google entwickelter KI-basierter, multimodaler Chatbot. Er wurde als direkte Reaktion auf den Erfolg von ChatGPT entwickelt und im März 2023 in eingeschränkter Kapazität veröffentlicht, bevor er im Laufe des Sommers in weiteren Ländern verfügbar wurde. Google Gemini ist in 40 Sprachen verfügbar.', 'source': 'https://de.wikipedia.org/wiki/Google_Gemini'}, page_content='hat.'),\n",
       " Document(metadata={'title': 'Google Gemini', 'summary': 'Google Gemini (ehemals Google Bard) ist ein von Google entwickelter KI-basierter, multimodaler Chatbot. Er wurde als direkte Reaktion auf den Erfolg von ChatGPT entwickelt und im März 2023 in eingeschränkter Kapazität veröffentlicht, bevor er im Laufe des Sommers in weiteren Ländern verfügbar wurde. Google Gemini ist in 40 Sprachen verfügbar.', 'source': 'https://de.wikipedia.org/wiki/Google_Gemini'}, page_content='Der Chatbot wurde zunächst auf Basis von LaMDA, einem Large Language Models (LLM), entwickelt, bevor er ab Mai 2023 auf das bessere Modell PaLM 2 und seit Dezember 2023 auf das neu entwickelte gleichnamige LLM Gemini Pro 1.5 zurückgreift.'),\n",
       " Document(metadata={'title': 'Google Gemini', 'summary': 'Google Gemini (ehemals Google Bard) ist ein von Google entwickelter KI-basierter, multimodaler Chatbot. Er wurde als direkte Reaktion auf den Erfolg von ChatGPT entwickelt und im März 2023 in eingeschränkter Kapazität veröffentlicht, bevor er im Laufe des Sommers in weiteren Ländern verfügbar wurde. Google Gemini ist in 40 Sprachen verfügbar.', 'source': 'https://de.wikipedia.org/wiki/Google_Gemini'}, page_content='Gemini Pro 1.5 basiert auf der Tranformer-Architektur mit einem stark erweiterten Kontexterfassungsfenster und mehreren parallelen „Experten“-Neuronalen-Netzwerken.'),\n",
       " Document(metadata={'title': 'Google Gemini', 'summary': 'Google Gemini (ehemals Google Bard) ist ein von Google entwickelter KI-basierter, multimodaler Chatbot. Er wurde als direkte Reaktion auf den Erfolg von ChatGPT entwickelt und im März 2023 in eingeschränkter Kapazität veröffentlicht, bevor er im Laufe des Sommers in weiteren Ländern verfügbar wurde. Google Gemini ist in 40 Sprachen verfügbar.', 'source': 'https://de.wikipedia.org/wiki/Google_Gemini'}, page_content='Die auf Gemini basierende Version ist mit Stand Februar 2024 in mehr als 230 Ländern und Regionen und in 40 Sprachen verfügbar.'),\n",
       " Document(metadata={'title': 'Google Gemini', 'summary': 'Google Gemini (ehemals Google Bard) ist ein von Google entwickelter KI-basierter, multimodaler Chatbot. Er wurde als direkte Reaktion auf den Erfolg von ChatGPT entwickelt und im März 2023 in eingeschränkter Kapazität veröffentlicht, bevor er im Laufe des Sommers in weiteren Ländern verfügbar wurde. Google Gemini ist in 40 Sprachen verfügbar.', 'source': 'https://de.wikipedia.org/wiki/Google_Gemini'}, page_content='Anders als ChatGPT 4 ist die Nutzung von Google Gemini kostenlos, jedoch gibt es auch eine kostenpflichtige Version namens Gemini Advanced. Allerdings weist Google selbst darauf hin, dass das Tool noch Schwächen habe. Google bezeichnete Bard zu Beginn der'),\n",
       " Document(metadata={'title': 'Google Gemini', 'summary': 'Google Gemini (ehemals Google Bard) ist ein von Google entwickelter KI-basierter, multimodaler Chatbot. Er wurde als direkte Reaktion auf den Erfolg von ChatGPT entwickelt und im März 2023 in eingeschränkter Kapazität veröffentlicht, bevor er im Laufe des Sommers in weiteren Ländern verfügbar wurde. Google Gemini ist in 40 Sprachen verfügbar.', 'source': 'https://de.wikipedia.org/wiki/Google_Gemini'}, page_content='Veröffentlichung selbst als Experiment, ehe es mit dem Rebranding als Gemini nunmehr kein Experiment ist.'),\n",
       " Document(metadata={'title': 'Google Gemini', 'summary': 'Google Gemini (ehemals Google Bard) ist ein von Google entwickelter KI-basierter, multimodaler Chatbot. Er wurde als direkte Reaktion auf den Erfolg von ChatGPT entwickelt und im März 2023 in eingeschränkter Kapazität veröffentlicht, bevor er im Laufe des Sommers in weiteren Ländern verfügbar wurde. Google Gemini ist in 40 Sprachen verfügbar.', 'source': 'https://de.wikipedia.org/wiki/Google_Gemini'}, page_content='== Gemini-Varianten ==\\nGemini wird in den Stufen Nano, Pro und Ultra angeboten:'),\n",
       " Document(metadata={'title': 'Google Gemini', 'summary': 'Google Gemini (ehemals Google Bard) ist ein von Google entwickelter KI-basierter, multimodaler Chatbot. Er wurde als direkte Reaktion auf den Erfolg von ChatGPT entwickelt und im März 2023 in eingeschränkter Kapazität veröffentlicht, bevor er im Laufe des Sommers in weiteren Ländern verfügbar wurde. Google Gemini ist in 40 Sprachen verfügbar.', 'source': 'https://de.wikipedia.org/wiki/Google_Gemini'}, page_content='Gemini Nano wird mit optimiertem Speicherbedarf lokal auf Samsung Galaxy S24- oder Pixel-Smartphones benutzt.Gemini Pro (einst Bard) ist die Standardversion.'),\n",
       " Document(metadata={'title': 'Google Gemini', 'summary': 'Google Gemini (ehemals Google Bard) ist ein von Google entwickelter KI-basierter, multimodaler Chatbot. Er wurde als direkte Reaktion auf den Erfolg von ChatGPT entwickelt und im März 2023 in eingeschränkter Kapazität veröffentlicht, bevor er im Laufe des Sommers in weiteren Ländern verfügbar wurde. Google Gemini ist in 40 Sprachen verfügbar.', 'source': 'https://de.wikipedia.org/wiki/Google_Gemini'}, page_content='Gemini Ultra dient der Lösung komplexer Aufgaben. Es steht mit Gemini Advanced für Privatnutzer im ChatBot und in Workspace-Apps bereit – oder im Workspace Business-Paket.Gemini Advanced umfasst kostenpflichtige Versionen (statt Gemini Pro). Diese'),\n",
       " Document(metadata={'title': 'Google Gemini', 'summary': 'Google Gemini (ehemals Google Bard) ist ein von Google entwickelter KI-basierter, multimodaler Chatbot. Er wurde als direkte Reaktion auf den Erfolg von ChatGPT entwickelt und im März 2023 in eingeschränkter Kapazität veröffentlicht, bevor er im Laufe des Sommers in weiteren Ländern verfügbar wurde. Google Gemini ist in 40 Sprachen verfügbar.', 'source': 'https://de.wikipedia.org/wiki/Google_Gemini'}, page_content='Ultra-Version gibt es nur mit Google One AI Premium.'),\n",
       " Document(metadata={'title': 'Google Gemini', 'summary': 'Google Gemini (ehemals Google Bard) ist ein von Google entwickelter KI-basierter, multimodaler Chatbot. Er wurde als direkte Reaktion auf den Erfolg von ChatGPT entwickelt und im März 2023 in eingeschränkter Kapazität veröffentlicht, bevor er im Laufe des Sommers in weiteren Ländern verfügbar wurde. Google Gemini ist in 40 Sprachen verfügbar.', 'source': 'https://de.wikipedia.org/wiki/Google_Gemini'}, page_content='Google One AI Premium ist ein Abo-Paket für Google One. Google One selbst dient nur der Abrechnung. Für US-Nutzer kann der Google One-Zugang zu Gemini Advanced geteilt werden.'),\n",
       " Document(metadata={'title': 'Google Gemini', 'summary': 'Google Gemini (ehemals Google Bard) ist ein von Google entwickelter KI-basierter, multimodaler Chatbot. Er wurde als direkte Reaktion auf den Erfolg von ChatGPT entwickelt und im März 2023 in eingeschränkter Kapazität veröffentlicht, bevor er im Laufe des Sommers in weiteren Ländern verfügbar wurde. Google Gemini ist in 40 Sprachen verfügbar.', 'source': 'https://de.wikipedia.org/wiki/Google_Gemini'}, page_content='Gemini für Google Workspace ist die Business-Version als Gemini-Integration in GMail, Docs, Sheets und Google Meet. Es ist Oberbegriff für Ultra-Merkmale in Workspace mit den Tarifen Business oder Enterprise.'),\n",
       " Document(metadata={'title': 'Google Gemini', 'summary': 'Google Gemini (ehemals Google Bard) ist ein von Google entwickelter KI-basierter, multimodaler Chatbot. Er wurde als direkte Reaktion auf den Erfolg von ChatGPT entwickelt und im März 2023 in eingeschränkter Kapazität veröffentlicht, bevor er im Laufe des Sommers in weiteren Ländern verfügbar wurde. Google Gemini ist in 40 Sprachen verfügbar.', 'source': 'https://de.wikipedia.org/wiki/Google_Gemini'}, page_content='Gemini Business ist das auf Google Workspace aufbauende Abo für Gemini in Workspace-Apps für 20 Dollar im Monat pro Nutzer – analog zu Advanced oder Google One AI Premium.'),\n",
       " Document(metadata={'title': 'Google Gemini', 'summary': 'Google Gemini (ehemals Google Bard) ist ein von Google entwickelter KI-basierter, multimodaler Chatbot. Er wurde als direkte Reaktion auf den Erfolg von ChatGPT entwickelt und im März 2023 in eingeschränkter Kapazität veröffentlicht, bevor er im Laufe des Sommers in weiteren Ländern verfügbar wurde. Google Gemini ist in 40 Sprachen verfügbar.', 'source': 'https://de.wikipedia.org/wiki/Google_Gemini'}, page_content='Gemini Enterprise als leistungsfähigere Variante von Gemini Business kostet 30 Dollar im Monat pro Nutzer.'),\n",
       " Document(metadata={'title': 'Google Gemini', 'summary': 'Google Gemini (ehemals Google Bard) ist ein von Google entwickelter KI-basierter, multimodaler Chatbot. Er wurde als direkte Reaktion auf den Erfolg von ChatGPT entwickelt und im März 2023 in eingeschränkter Kapazität veröffentlicht, bevor er im Laufe des Sommers in weiteren Ländern verfügbar wurde. Google Gemini ist in 40 Sprachen verfügbar.', 'source': 'https://de.wikipedia.org/wiki/Google_Gemini'}, page_content='Die Gemini Android-App ist für US-Nutzer nutzbar sowie per APK-Sideload weltweit. Die App kann den Google Assistant ablösen, der in reduzierter Nützlichkeit als Plug-In integriert ist. Gemini für Android entspricht Gemini im Web. Seit Juni 2024 ist die'),\n",
       " Document(metadata={'title': 'Google Gemini', 'summary': 'Google Gemini (ehemals Google Bard) ist ein von Google entwickelter KI-basierter, multimodaler Chatbot. Er wurde als direkte Reaktion auf den Erfolg von ChatGPT entwickelt und im März 2023 in eingeschränkter Kapazität veröffentlicht, bevor er im Laufe des Sommers in weiteren Ländern verfügbar wurde. Google Gemini ist in 40 Sprachen verfügbar.', 'source': 'https://de.wikipedia.org/wiki/Google_Gemini'}, page_content='Gemini App auch in Deutscher Sprache verfügbar.'),\n",
       " Document(metadata={'title': 'Google Gemini', 'summary': 'Google Gemini (ehemals Google Bard) ist ein von Google entwickelter KI-basierter, multimodaler Chatbot. Er wurde als direkte Reaktion auf den Erfolg von ChatGPT entwickelt und im März 2023 in eingeschränkter Kapazität veröffentlicht, bevor er im Laufe des Sommers in weiteren Ländern verfügbar wurde. Google Gemini ist in 40 Sprachen verfügbar.', 'source': 'https://de.wikipedia.org/wiki/Google_Gemini'}, page_content='Googles Open-Source-Projekt Gemma nutzt Gemini-Technologie und steht Entwicklern und Nutzern offen.'),\n",
       " Document(metadata={'title': 'Google Gemini', 'summary': 'Google Gemini (ehemals Google Bard) ist ein von Google entwickelter KI-basierter, multimodaler Chatbot. Er wurde als direkte Reaktion auf den Erfolg von ChatGPT entwickelt und im März 2023 in eingeschränkter Kapazität veröffentlicht, bevor er im Laufe des Sommers in weiteren Ländern verfügbar wurde. Google Gemini ist in 40 Sprachen verfügbar.', 'source': 'https://de.wikipedia.org/wiki/Google_Gemini'}, page_content='== Geschichte =='),\n",
       " Document(metadata={'title': 'Google Gemini', 'summary': 'Google Gemini (ehemals Google Bard) ist ein von Google entwickelter KI-basierter, multimodaler Chatbot. Er wurde als direkte Reaktion auf den Erfolg von ChatGPT entwickelt und im März 2023 in eingeschränkter Kapazität veröffentlicht, bevor er im Laufe des Sommers in weiteren Ländern verfügbar wurde. Google Gemini ist in 40 Sprachen verfügbar.', 'source': 'https://de.wikipedia.org/wiki/Google_Gemini'}, page_content='Auf einer Konferenz bezeichneten Google-Manager Anfang 2023 ChatGPT als „Code Red“ (also ein klares Warnsignal an Google), da die AI-basierte Plattform des Konkurrenten eine unerwartet positive Resonanz von Nutzern auf der ganzen Welt erhalten hätte. In'),\n",
       " Document(metadata={'title': 'Google Gemini', 'summary': 'Google Gemini (ehemals Google Bard) ist ein von Google entwickelter KI-basierter, multimodaler Chatbot. Er wurde als direkte Reaktion auf den Erfolg von ChatGPT entwickelt und im März 2023 in eingeschränkter Kapazität veröffentlicht, bevor er im Laufe des Sommers in weiteren Ländern verfügbar wurde. Google Gemini ist in 40 Sprachen verfügbar.', 'source': 'https://de.wikipedia.org/wiki/Google_Gemini'}, page_content='einem Blog-Beitrag gab Google bekannt, dass es sein eigenes Produkt unter der Marke Bard „vertrauenswürdigen Testern“ zur Verfügung stellen werde, bevor es für die Öffentlichkeit zugänglich gemacht werde. Der Chatbot von Google war nach William'),\n",
       " Document(metadata={'title': 'Google Gemini', 'summary': 'Google Gemini (ehemals Google Bard) ist ein von Google entwickelter KI-basierter, multimodaler Chatbot. Er wurde als direkte Reaktion auf den Erfolg von ChatGPT entwickelt und im März 2023 in eingeschränkter Kapazität veröffentlicht, bevor er im Laufe des Sommers in weiteren Ländern verfügbar wurde. Google Gemini ist in 40 Sprachen verfügbar.', 'source': 'https://de.wikipedia.org/wiki/Google_Gemini'}, page_content='Shakespeare benannt, der auch als „Bard of Avon“ (auf Deutsch: „Dichter von Avon“) bezeichnet wir'),\n",
       " Document(metadata={'title': 'Gemini (Sprachmodell)', 'summary': 'Gemini ist eine Serie multimodaler Sprachmodelle des US-amerikanischen Unternehmens Google. Sie zählt zum Bereich Generativer Künstlicher Intelligenz (GenAI). Entwickelt wurde es von Googles Tochterunternehmen DeepMind und baut auf den zuvor bereits von Google herausgebrachten Sprachmodellen LaMDA und PaLM auf. Gemini wurde im Dezember 2023 angekündigt und wird von vielen Marktbeobachtern als Konkurrent zu GPT-4 von OpenAI gesehen.', 'source': 'https://de.wikipedia.org/wiki/Gemini_(Sprachmodell)'}, page_content='Gemini ist eine Serie multimodaler Sprachmodelle des US-amerikanischen Unternehmens Google. Sie zählt zum Bereich Generativer Künstlicher Intelligenz (GenAI). Entwickelt wurde es von Googles Tochterunternehmen DeepMind und baut auf den zuvor bereits von'),\n",
       " Document(metadata={'title': 'Gemini (Sprachmodell)', 'summary': 'Gemini ist eine Serie multimodaler Sprachmodelle des US-amerikanischen Unternehmens Google. Sie zählt zum Bereich Generativer Künstlicher Intelligenz (GenAI). Entwickelt wurde es von Googles Tochterunternehmen DeepMind und baut auf den zuvor bereits von Google herausgebrachten Sprachmodellen LaMDA und PaLM auf. Gemini wurde im Dezember 2023 angekündigt und wird von vielen Marktbeobachtern als Konkurrent zu GPT-4 von OpenAI gesehen.', 'source': 'https://de.wikipedia.org/wiki/Gemini_(Sprachmodell)'}, page_content='Google herausgebrachten Sprachmodellen LaMDA und PaLM auf. Gemini wurde im Dezember 2023 angekündigt und wird von vielen Marktbeobachtern als Konkurrent zu GPT-4 von OpenAI gesehen.'),\n",
       " Document(metadata={'title': 'Gemini (Sprachmodell)', 'summary': 'Gemini ist eine Serie multimodaler Sprachmodelle des US-amerikanischen Unternehmens Google. Sie zählt zum Bereich Generativer Künstlicher Intelligenz (GenAI). Entwickelt wurde es von Googles Tochterunternehmen DeepMind und baut auf den zuvor bereits von Google herausgebrachten Sprachmodellen LaMDA und PaLM auf. Gemini wurde im Dezember 2023 angekündigt und wird von vielen Marktbeobachtern als Konkurrent zu GPT-4 von OpenAI gesehen.', 'source': 'https://de.wikipedia.org/wiki/Gemini_(Sprachmodell)'}, page_content='== Abgrenzung der Gemini-Versionen ==\\nGemini ist ein Produktname, der das KI-Modell wie auch den Chatbot meint und zur übergreifenden Bezeichnung geworden ist. Das KI-Modell wird in den Stufen Gemini Nano, Gemini Pro und Gemini Ultra angeboten:'),\n",
       " Document(metadata={'title': 'Gemini (Sprachmodell)', 'summary': 'Gemini ist eine Serie multimodaler Sprachmodelle des US-amerikanischen Unternehmens Google. Sie zählt zum Bereich Generativer Künstlicher Intelligenz (GenAI). Entwickelt wurde es von Googles Tochterunternehmen DeepMind und baut auf den zuvor bereits von Google herausgebrachten Sprachmodellen LaMDA und PaLM auf. Gemini wurde im Dezember 2023 angekündigt und wird von vielen Marktbeobachtern als Konkurrent zu GPT-4 von OpenAI gesehen.', 'source': 'https://de.wikipedia.org/wiki/Gemini_(Sprachmodell)'}, page_content='Gemini Nano ist ein bezüglich Speicherbedarf optimiertes schlankes Sprachmodell für Smartphones wie Pixel 8 oder Samsung Galaxy S24.\\nGemini Pro deckt als Standardversion ein breites Aufgabenspektrum ab.'),\n",
       " Document(metadata={'title': 'Gemini (Sprachmodell)', 'summary': 'Gemini ist eine Serie multimodaler Sprachmodelle des US-amerikanischen Unternehmens Google. Sie zählt zum Bereich Generativer Künstlicher Intelligenz (GenAI). Entwickelt wurde es von Googles Tochterunternehmen DeepMind und baut auf den zuvor bereits von Google herausgebrachten Sprachmodellen LaMDA und PaLM auf. Gemini wurde im Dezember 2023 angekündigt und wird von vielen Marktbeobachtern als Konkurrent zu GPT-4 von OpenAI gesehen.', 'source': 'https://de.wikipedia.org/wiki/Gemini_(Sprachmodell)'}, page_content='Gemini Ultra soll hochkomplexe Aufgaben multimodaler Art (Text- und Medienverarbeitung) lösen. Gemini Ultra steht mit Gemini Advanced für Privatnutzer sowohl im KI-Chatbot als auch in Workspace-Apps zur Verfügung. Auch ist es im Workspace-Business-Paket'),\n",
       " Document(metadata={'title': 'Gemini (Sprachmodell)', 'summary': 'Gemini ist eine Serie multimodaler Sprachmodelle des US-amerikanischen Unternehmens Google. Sie zählt zum Bereich Generativer Künstlicher Intelligenz (GenAI). Entwickelt wurde es von Googles Tochterunternehmen DeepMind und baut auf den zuvor bereits von Google herausgebrachten Sprachmodellen LaMDA und PaLM auf. Gemini wurde im Dezember 2023 angekündigt und wird von vielen Marktbeobachtern als Konkurrent zu GPT-4 von OpenAI gesehen.', 'source': 'https://de.wikipedia.org/wiki/Gemini_(Sprachmodell)'}, page_content='nutzbar.'),\n",
       " Document(metadata={'title': 'Gemini (Sprachmodell)', 'summary': 'Gemini ist eine Serie multimodaler Sprachmodelle des US-amerikanischen Unternehmens Google. Sie zählt zum Bereich Generativer Künstlicher Intelligenz (GenAI). Entwickelt wurde es von Googles Tochterunternehmen DeepMind und baut auf den zuvor bereits von Google herausgebrachten Sprachmodellen LaMDA und PaLM auf. Gemini wurde im Dezember 2023 angekündigt und wird von vielen Marktbeobachtern als Konkurrent zu GPT-4 von OpenAI gesehen.', 'source': 'https://de.wikipedia.org/wiki/Gemini_(Sprachmodell)'}, page_content='Gemini ist auch der Name des Google-Chatbots. Dieser hieß zuvor Bard, Google nannte ihn aber im Februar 2024 um. Die Basisversion von Gemini ist kostenlos, das leistungsfähigere Gemini Advanced kostenpflichtig und nur über Google One AI Premium zu buchen.'),\n",
       " Document(metadata={'title': 'Gemini (Sprachmodell)', 'summary': 'Gemini ist eine Serie multimodaler Sprachmodelle des US-amerikanischen Unternehmens Google. Sie zählt zum Bereich Generativer Künstlicher Intelligenz (GenAI). Entwickelt wurde es von Googles Tochterunternehmen DeepMind und baut auf den zuvor bereits von Google herausgebrachten Sprachmodellen LaMDA und PaLM auf. Gemini wurde im Dezember 2023 angekündigt und wird von vielen Marktbeobachtern als Konkurrent zu GPT-4 von OpenAI gesehen.', 'source': 'https://de.wikipedia.org/wiki/Gemini_(Sprachmodell)'}, page_content='Bei Google One AI Premium ist ein Abo-Paket für Google One mit mindestens 2 TByte Speicher sowie Gemini Advanced erhältlich.'),\n",
       " Document(metadata={'title': 'Gemini (Sprachmodell)', 'summary': 'Gemini ist eine Serie multimodaler Sprachmodelle des US-amerikanischen Unternehmens Google. Sie zählt zum Bereich Generativer Künstlicher Intelligenz (GenAI). Entwickelt wurde es von Googles Tochterunternehmen DeepMind und baut auf den zuvor bereits von Google herausgebrachten Sprachmodellen LaMDA und PaLM auf. Gemini wurde im Dezember 2023 angekündigt und wird von vielen Marktbeobachtern als Konkurrent zu GPT-4 von OpenAI gesehen.', 'source': 'https://de.wikipedia.org/wiki/Gemini_(Sprachmodell)'}, page_content='Weitere Produkte sind „Gemini für Google Workspace“ als Business-Version, die auch als „Duet AI“ angeboten wurde und zusätzlich zu Workspace-Paketen nutzbar ist. Es bietet die Gemini-Integration in GMail, Docs, Sheets, Google Meet. Es ist der neue'),\n",
       " Document(metadata={'title': 'Gemini (Sprachmodell)', 'summary': 'Gemini ist eine Serie multimodaler Sprachmodelle des US-amerikanischen Unternehmens Google. Sie zählt zum Bereich Generativer Künstlicher Intelligenz (GenAI). Entwickelt wurde es von Googles Tochterunternehmen DeepMind und baut auf den zuvor bereits von Google herausgebrachten Sprachmodellen LaMDA und PaLM auf. Gemini wurde im Dezember 2023 angekündigt und wird von vielen Marktbeobachtern als Konkurrent zu GPT-4 von OpenAI gesehen.', 'source': 'https://de.wikipedia.org/wiki/Gemini_(Sprachmodell)'}, page_content='Oberbegriff für die auf Gemini Ultra basierenden Gemini-Features in Workspace, die sich freischalten lassen für die Tarife „Gemini Business“ oder „Gemini Enterprise“: Gemini Business ist das auf Google Workspace aufbauende Abo für Gemini-Funktionen in den'),\n",
       " Document(metadata={'title': 'Gemini (Sprachmodell)', 'summary': 'Gemini ist eine Serie multimodaler Sprachmodelle des US-amerikanischen Unternehmens Google. Sie zählt zum Bereich Generativer Künstlicher Intelligenz (GenAI). Entwickelt wurde es von Googles Tochterunternehmen DeepMind und baut auf den zuvor bereits von Google herausgebrachten Sprachmodellen LaMDA und PaLM auf. Gemini wurde im Dezember 2023 angekündigt und wird von vielen Marktbeobachtern als Konkurrent zu GPT-4 von OpenAI gesehen.', 'source': 'https://de.wikipedia.org/wiki/Gemini_(Sprachmodell)'}, page_content='Workspace-Apps für derzeit 19 Euro pro Monat pro Nutzer. Es ist das Business-Pendant zu Gemini Advanced bzw. Google One AI Premium. Gemini Enterprise ist die leistungsfähigere Gemini-Business-Variante: Zusätzlich sind unter anderem'),\n",
       " Document(metadata={'title': 'Gemini (Sprachmodell)', 'summary': 'Gemini ist eine Serie multimodaler Sprachmodelle des US-amerikanischen Unternehmens Google. Sie zählt zum Bereich Generativer Künstlicher Intelligenz (GenAI). Entwickelt wurde es von Googles Tochterunternehmen DeepMind und baut auf den zuvor bereits von Google herausgebrachten Sprachmodellen LaMDA und PaLM auf. Gemini wurde im Dezember 2023 angekündigt und wird von vielen Marktbeobachtern als Konkurrent zu GPT-4 von OpenAI gesehen.', 'source': 'https://de.wikipedia.org/wiki/Gemini_(Sprachmodell)'}, page_content='Untertitel-Übersetzungen enthalten. Gemini Enterprise 29 Euro pro Monat und Nutzer.'),\n",
       " Document(metadata={'title': 'Gemini (Sprachmodell)', 'summary': 'Gemini ist eine Serie multimodaler Sprachmodelle des US-amerikanischen Unternehmens Google. Sie zählt zum Bereich Generativer Künstlicher Intelligenz (GenAI). Entwickelt wurde es von Googles Tochterunternehmen DeepMind und baut auf den zuvor bereits von Google herausgebrachten Sprachmodellen LaMDA und PaLM auf. Gemini wurde im Dezember 2023 angekündigt und wird von vielen Marktbeobachtern als Konkurrent zu GPT-4 von OpenAI gesehen.', 'source': 'https://de.wikipedia.org/wiki/Gemini_(Sprachmodell)'}, page_content='Die Gemini-Android-App ist über einen Gemini APK-Sideload auch in Deutschland nutzbar. Die App kann den Google Assistant unter Android ablösen, der als Plug-in in die App integriert ist. Gemini für Android entspricht Gemini im Web, bietet aber mit der'),\n",
       " Document(metadata={'title': 'Gemini (Sprachmodell)', 'summary': 'Gemini ist eine Serie multimodaler Sprachmodelle des US-amerikanischen Unternehmens Google. Sie zählt zum Bereich Generativer Künstlicher Intelligenz (GenAI). Entwickelt wurde es von Googles Tochterunternehmen DeepMind und baut auf den zuvor bereits von Google herausgebrachten Sprachmodellen LaMDA und PaLM auf. Gemini wurde im Dezember 2023 angekündigt und wird von vielen Marktbeobachtern als Konkurrent zu GPT-4 von OpenAI gesehen.', 'source': 'https://de.wikipedia.org/wiki/Gemini_(Sprachmodell)'}, page_content='Assistant-Infrastruktur mehr Möglichkeiten.'),\n",
       " Document(metadata={'title': 'Gemini (Sprachmodell)', 'summary': 'Gemini ist eine Serie multimodaler Sprachmodelle des US-amerikanischen Unternehmens Google. Sie zählt zum Bereich Generativer Künstlicher Intelligenz (GenAI). Entwickelt wurde es von Googles Tochterunternehmen DeepMind und baut auf den zuvor bereits von Google herausgebrachten Sprachmodellen LaMDA und PaLM auf. Gemini wurde im Dezember 2023 angekündigt und wird von vielen Marktbeobachtern als Konkurrent zu GPT-4 von OpenAI gesehen.', 'source': 'https://de.wikipedia.org/wiki/Gemini_(Sprachmodell)'}, page_content='Auch das Open-Source-Projekt Gemma basiert auf Gemini-Technik und steht Entwicklern und interessierten Nutzern offen.'),\n",
       " Document(metadata={'title': 'Gemini (Sprachmodell)', 'summary': 'Gemini ist eine Serie multimodaler Sprachmodelle des US-amerikanischen Unternehmens Google. Sie zählt zum Bereich Generativer Künstlicher Intelligenz (GenAI). Entwickelt wurde es von Googles Tochterunternehmen DeepMind und baut auf den zuvor bereits von Google herausgebrachten Sprachmodellen LaMDA und PaLM auf. Gemini wurde im Dezember 2023 angekündigt und wird von vielen Marktbeobachtern als Konkurrent zu GPT-4 von OpenAI gesehen.', 'source': 'https://de.wikipedia.org/wiki/Gemini_(Sprachmodell)'}, page_content='== Kritik ==\\nNach der Vorstellung von Gemini im Dezember 2023 wurde Kritik an Google geäußert, weil Demovideos offenbar deutlich bearbeitet wurden, um Gemini leistungsfähiger erscheinen zu lassen.'),\n",
       " Document(metadata={'title': 'Gemini (Sprachmodell)', 'summary': 'Gemini ist eine Serie multimodaler Sprachmodelle des US-amerikanischen Unternehmens Google. Sie zählt zum Bereich Generativer Künstlicher Intelligenz (GenAI). Entwickelt wurde es von Googles Tochterunternehmen DeepMind und baut auf den zuvor bereits von Google herausgebrachten Sprachmodellen LaMDA und PaLM auf. Gemini wurde im Dezember 2023 angekündigt und wird von vielen Marktbeobachtern als Konkurrent zu GPT-4 von OpenAI gesehen.', 'source': 'https://de.wikipedia.org/wiki/Gemini_(Sprachmodell)'}, page_content='== Trivia =='),\n",
       " Document(metadata={'title': 'Gemini (Sprachmodell)', 'summary': 'Gemini ist eine Serie multimodaler Sprachmodelle des US-amerikanischen Unternehmens Google. Sie zählt zum Bereich Generativer Künstlicher Intelligenz (GenAI). Entwickelt wurde es von Googles Tochterunternehmen DeepMind und baut auf den zuvor bereits von Google herausgebrachten Sprachmodellen LaMDA und PaLM auf. Gemini wurde im Dezember 2023 angekündigt und wird von vielen Marktbeobachtern als Konkurrent zu GPT-4 von OpenAI gesehen.', 'source': 'https://de.wikipedia.org/wiki/Gemini_(Sprachmodell)'}, page_content='Der Name Gemini steht im Lateinischen für das Sternbild Zwillinge und hier für die Partnerschaft der beiden großen KI-Labore von Google, Google DeepMind und Google Brain, und ist zudem eine Anspielung auf das NASA-Projekt Gemini, das in den 60er-Jahren'),\n",
       " Document(metadata={'title': 'Gemini (Sprachmodell)', 'summary': 'Gemini ist eine Serie multimodaler Sprachmodelle des US-amerikanischen Unternehmens Google. Sie zählt zum Bereich Generativer Künstlicher Intelligenz (GenAI). Entwickelt wurde es von Googles Tochterunternehmen DeepMind und baut auf den zuvor bereits von Google herausgebrachten Sprachmodellen LaMDA und PaLM auf. Gemini wurde im Dezember 2023 angekündigt und wird von vielen Marktbeobachtern als Konkurrent zu GPT-4 von OpenAI gesehen.', 'source': 'https://de.wikipedia.org/wiki/Gemini_(Sprachmodell)'}, page_content='den Weg für die Mondlandungen des späteren Apollo-Programms ebnete.'),\n",
       " Document(metadata={'title': 'Gemini (Sprachmodell)', 'summary': 'Gemini ist eine Serie multimodaler Sprachmodelle des US-amerikanischen Unternehmens Google. Sie zählt zum Bereich Generativer Künstlicher Intelligenz (GenAI). Entwickelt wurde es von Googles Tochterunternehmen DeepMind und baut auf den zuvor bereits von Google herausgebrachten Sprachmodellen LaMDA und PaLM auf. Gemini wurde im Dezember 2023 angekündigt und wird von vielen Marktbeobachtern als Konkurrent zu GPT-4 von OpenAI gesehen.', 'source': 'https://de.wikipedia.org/wiki/Gemini_(Sprachmodell)'}, page_content='== Weblinks ==\\nOffizielle Website\\nGemini: A Family of Highly Capable Multimodal Models White Paper (PDF, 62 Seiten, englisch)\\n\\n\\n== Einzelnachweise ==')]"
      ]
     },
     "execution_count": 23,
     "metadata": {},
     "output_type": "execute_result"
    }
   ],
   "source": [
    "chunks"
   ]
  },
  {
   "cell_type": "code",
   "execution_count": 24,
   "id": "3c78208c-bf11-447d-beb6-6145671632c1",
   "metadata": {},
   "outputs": [
    {
     "name": "stdout",
     "output_type": "stream",
     "text": [
      "Creating index gemini and embeddings ...Ok\n"
     ]
    }
   ],
   "source": [
    "index_name = 'gemini'\n",
    "vector_store = insert_or_fetch_embeddings(index_name=index_name, chunks=chunks)"
   ]
  },
  {
   "cell_type": "code",
   "execution_count": 25,
   "id": "53bd29c9",
   "metadata": {},
   "outputs": [
    {
     "name": "stdout",
     "output_type": "stream",
     "text": [
      "{'query': 'Was ist Google Gemini?', 'result': \"I'm not sure.\"}\n"
     ]
    }
   ],
   "source": [
    "q = 'Was ist Google Gemini?'\n",
    "answer = ask_and_get_answer(vector_store, q)\n",
    "\n",
    "print(answer)"
   ]
  },
  {
   "cell_type": "code",
   "execution_count": 26,
   "id": "2f6532fb",
   "metadata": {},
   "outputs": [],
   "source": [
    "from langchain_openai import ChatOpenAI\n",
    "from langchain.chains import ConversationalRetrievalChain\n",
    "from langchain.memory import ConversationBufferMemory"
   ]
  },
  {
   "cell_type": "code",
   "execution_count": 35,
   "id": "e7673f58",
   "metadata": {},
   "outputs": [],
   "source": [
    "llm = ChatOpenAI(model='gpt-3.5-turbo', temperature=0, api_key=OPENAI_API_KEY)\n",
    "retriever = vector_store.as_retriever(search_type='similarity', search_kwargs={'k': 5})\n",
    "memory = ConversationBufferMemory(memory_key=\"chat_history\", return_messages=True)"
   ]
  },
  {
   "cell_type": "code",
   "execution_count": 36,
   "id": "573761f7",
   "metadata": {},
   "outputs": [],
   "source": [
    "crc = ConversationalRetrievalChain.from_llm(\n",
    "    llm=llm,\n",
    "    retriever=retriever,\n",
    "    memory=memory,\n",
    "    chain_type=\"stuff\",\n",
    "    verbose=True\n",
    ")"
   ]
  },
  {
   "cell_type": "code",
   "execution_count": 37,
   "id": "7c76aa40",
   "metadata": {},
   "outputs": [],
   "source": [
    "def ask_question(q, chain):\n",
    "    return chain.invoke({'question': q})"
   ]
  },
  {
   "cell_type": "code",
   "execution_count": 38,
   "id": "c68171ef",
   "metadata": {},
   "outputs": [
    {
     "name": "stdout",
     "output_type": "stream",
     "text": [
      "Deleting all indexes ... \n",
      "Ok\n"
     ]
    }
   ],
   "source": [
    "delete_pinecone_index()"
   ]
  },
  {
   "cell_type": "code",
   "execution_count": 39,
   "id": "ddd7cc19",
   "metadata": {},
   "outputs": [
    {
     "name": "stdout",
     "output_type": "stream",
     "text": [
      "Loading files/us_constitution.pdf\n",
      "Creating index us-constitution and embeddings ...Ok\n"
     ]
    }
   ],
   "source": [
    "data = load_document('files/us_constitution.pdf')\n",
    "chunks = chunk_data(data)\n",
    "vector_store = insert_or_fetch_embeddings('us-constitution', chunks)"
   ]
  },
  {
   "cell_type": "code",
   "execution_count": 40,
   "id": "7d598e76",
   "metadata": {},
   "outputs": [
    {
     "name": "stdout",
     "output_type": "stream",
     "text": [
      "\n",
      "\n",
      "\u001b[1m> Entering new StuffDocumentsChain chain...\u001b[0m\n",
      "\n",
      "\n",
      "\u001b[1m> Entering new LLMChain chain...\u001b[0m\n",
      "Prompt after formatting:\n",
      "\u001b[32;1m\u001b[1;3mSystem: Use the following pieces of context to answer the user's question. \n",
      "If you don't know the answer, just say that you don't know, don't try to make up an answer.\n",
      "----------------\n",
      "The\n",
      "United\n",
      "States\n",
      "Constitution\n",
      "W e\n",
      "the\n",
      "People\n",
      "of\n",
      "the\n",
      "United\n",
      "States,\n",
      "in\n",
      "Order\n",
      "to\n",
      "form\n",
      "a\n",
      "more\n",
      "perfect\n",
      "Union,\n",
      "establish\n",
      "Justice,\n",
      "insure\n",
      "domestic\n",
      "T ranquility ,\n",
      "provide\n",
      "for\n",
      "the\n",
      "common\n",
      "defence,\n",
      "promote\n",
      "the\n",
      "general\n",
      "W elfare,\n",
      "and\n",
      "secure\n",
      "the\n",
      "Blessings\n",
      "of\n",
      "Liberty\n",
      "\n",
      "Government\n",
      "for\n",
      "a\n",
      "redress\n",
      "of\n",
      "grievances.\n",
      "Second\n",
      "Amendment\n",
      "A\n",
      "well\n",
      "regulated\n",
      "Militia,\n",
      "being\n",
      "necessary\n",
      "to\n",
      "the\n",
      "security\n",
      "of\n",
      "a\n",
      "free\n",
      "State,\n",
      "the\n",
      "right\n",
      "of\n",
      "the\n",
      "people\n",
      "to\n",
      "keep\n",
      "and\n",
      "bear\n",
      "Arms,\n",
      "shall\n",
      "not\n",
      "be\n",
      "infringed.\n",
      "Third\n",
      "Amendment\n",
      "No\n",
      "Soldier\n",
      "shall,\n",
      "in\n",
      "time\n",
      "of\n",
      "peace\n",
      "\n",
      "Bill.\n",
      "Section\n",
      "8:\n",
      "Powers\n",
      "of\n",
      "Congress\n",
      "The\n",
      "Congress\n",
      "shall\n",
      "have\n",
      "Power\n",
      "T o\n",
      "lay\n",
      "and\n",
      "collect\n",
      "T axes,\n",
      "Duties,\n",
      "Imposts\n",
      "and\n",
      "Excises,\n",
      "to\n",
      "pay\n",
      "the\n",
      "Debts\n",
      "and\n",
      "provide\n",
      "for\n",
      "the\n",
      "common\n",
      "Defence\n",
      "and\n",
      "general\n",
      "W elfare\n",
      "of\n",
      "the\n",
      "United\n",
      "States;\n",
      "but\n",
      "all\n",
      "Duties,\n",
      "Imposts\n",
      "and\n",
      "Excises\n",
      "\n",
      "First\n",
      "Amendment\n",
      "Congress\n",
      "shall\n",
      "make\n",
      "no\n",
      "law\n",
      "respecting\n",
      "an\n",
      "establishment\n",
      "of\n",
      "religion,\n",
      "or\n",
      "prohibiting\n",
      "the\n",
      "free\n",
      "exercise\n",
      "thereof;\n",
      "or\n",
      "abridging\n",
      "the\n",
      "freedom\n",
      "of\n",
      "speech,\n",
      "or\n",
      "of\n",
      "the\n",
      "press;\n",
      "or\n",
      "the\n",
      "right\n",
      "of\n",
      "the\n",
      "people\n",
      "peaceably\n",
      "to\n",
      "assemble,\n",
      "and\n",
      "to\n",
      "petition\n",
      "the\n",
      "\n",
      "to\n",
      "ourselves\n",
      "and\n",
      "our\n",
      "Posterity ,\n",
      "do\n",
      "ordain\n",
      "and\n",
      "establish\n",
      "this\n",
      "Constitution\n",
      "for\n",
      "the\n",
      "United\n",
      "States\n",
      "of\n",
      "America.\n",
      "The\n",
      "Constitutional\n",
      "Con v ention\n",
      "Article\n",
      "I\n",
      "Section\n",
      "1:\n",
      "Congress\n",
      "All\n",
      "legislative\n",
      "Powers\n",
      "herein\n",
      "granted\n",
      "shall\n",
      "be\n",
      "vested\n",
      "in\n",
      "a\n",
      "Congress\n",
      "of\n",
      "the\n",
      "United\n",
      "Human: What is the Bill of Rights?\u001b[0m\n",
      "\n",
      "\u001b[1m> Finished chain.\u001b[0m\n",
      "\n",
      "\u001b[1m> Finished chain.\u001b[0m\n",
      "{'question': 'What is the Bill of Rights?', 'chat_history': [HumanMessage(content='What is the Bill of Rights?'), AIMessage(content='The Bill of Rights refers to the first ten amendments to the United States Constitution. These amendments outline specific rights and protections for individuals, such as freedom of speech, religion, and the right to bear arms.')], 'answer': 'The Bill of Rights refers to the first ten amendments to the United States Constitution. These amendments outline specific rights and protections for individuals, such as freedom of speech, religion, and the right to bear arms.'}\n"
     ]
    }
   ],
   "source": [
    "q = \"What is the Bill of Rights?\"\n",
    "\n",
    "answer = ask_question(q, crc)\n",
    "\n",
    "print(answer)"
   ]
  },
  {
   "cell_type": "code",
   "execution_count": 41,
   "id": "35487ae5",
   "metadata": {},
   "outputs": [
    {
     "name": "stdout",
     "output_type": "stream",
     "text": [
      "\n",
      "\n",
      "\u001b[1m> Entering new LLMChain chain...\u001b[0m\n",
      "Prompt after formatting:\n",
      "\u001b[32;1m\u001b[1;3mGiven the following conversation and a follow up question, rephrase the follow up question to be a standalone question, in its original language.\n",
      "\n",
      "Chat History:\n",
      "\n",
      "Human: What is the Bill of Rights?\n",
      "Assistant: The Bill of Rights refers to the first ten amendments to the United States Constitution. These amendments outline specific rights and protections for individuals, such as freedom of speech, religion, and the right to bear arms.\n",
      "Follow Up Input: Multiply the number of amendments by 3.\n",
      "Standalone question:\u001b[0m\n",
      "\n",
      "\u001b[1m> Finished chain.\u001b[0m\n",
      "\n",
      "\n",
      "\u001b[1m> Entering new StuffDocumentsChain chain...\u001b[0m\n",
      "\n",
      "\n",
      "\u001b[1m> Entering new LLMChain chain...\u001b[0m\n",
      "Prompt after formatting:\n",
      "\u001b[32;1m\u001b[1;3mSystem: Use the following pieces of context to answer the user's question. \n",
      "If you don't know the answer, just say that you don't know, don't try to make up an answer.\n",
      "----------------\n",
      "Convention\n",
      "for\n",
      "proposing\n",
      "Amendments,\n",
      "which,\n",
      "in\n",
      "either\n",
      "Case,\n",
      "shall\n",
      "be\n",
      "valid\n",
      "to\n",
      "all\n",
      "Intents\n",
      "and\n",
      "Purposes,\n",
      "as\n",
      "Part\n",
      "of\n",
      "this\n",
      "Constitution,\n",
      "when\n",
      "ratified\n",
      "by\n",
      "the\n",
      "Legislatures\n",
      "of\n",
      "three\n",
      "fourths\n",
      "of\n",
      "the\n",
      "several\n",
      "States,\n",
      "or\n",
      "by\n",
      "Conventions\n",
      "in\n",
      "three\n",
      "fourths\n",
      "thereof,\n",
      "as\n",
      "\n",
      "of\n",
      "three-fourths\n",
      "of\n",
      "the\n",
      "several\n",
      "States\n",
      "within\n",
      "seven\n",
      "years\n",
      "from\n",
      "the\n",
      "date\n",
      "of\n",
      "its\n",
      "submission\n",
      "to\n",
      "the\n",
      "States\n",
      "by\n",
      "the\n",
      "Congress.\n",
      "23rd\n",
      "Amendment\n",
      "Section\n",
      "1\n",
      "The\n",
      "District\n",
      "constituting\n",
      "the\n",
      "seat\n",
      "of\n",
      "Government\n",
      "of\n",
      "the\n",
      "United\n",
      "States\n",
      "shall\n",
      "appoint\n",
      "in\n",
      "such\n",
      "manner\n",
      "as\n",
      "\n",
      "be\n",
      "inoperative\n",
      "unless\n",
      "it\n",
      "shall\n",
      "have\n",
      "been\n",
      "ratified\n",
      "as\n",
      "an\n",
      "amendment\n",
      "to\n",
      "the\n",
      "Constitution\n",
      "by\n",
      "the\n",
      "legislatures\n",
      "of\n",
      "three-fourths\n",
      "of\n",
      "the\n",
      "several\n",
      "States\n",
      "within\n",
      "seven\n",
      "years\n",
      "from\n",
      "the\n",
      "date\n",
      "of\n",
      "its\n",
      "submission.\n",
      "21st\n",
      "Amendment\n",
      "Section\n",
      "1\n",
      "The\n",
      "eighteenth\n",
      "article\n",
      "of\n",
      "\n",
      "this\n",
      "article\n",
      "by\n",
      "appropriate\n",
      "legislation.\n",
      "27th\n",
      "Amendment\n",
      "No\n",
      "law ,\n",
      "varying\n",
      "the\n",
      "compensation\n",
      "for\n",
      "the\n",
      "services\n",
      "of\n",
      "the\n",
      "Senators\n",
      "and\n",
      "Representatives,\n",
      "shall\n",
      "take\n",
      "ef fect,\n",
      "until\n",
      "an\n",
      "election\n",
      "of\n",
      "representatives\n",
      "shall\n",
      "have\n",
      "intervened.\n",
      "\n",
      "unless\n",
      "it\n",
      "shall\n",
      "have\n",
      "been\n",
      "ratified\n",
      "as\n",
      "an\n",
      "amendment\n",
      "to\n",
      "the\n",
      "Constitution\n",
      "by\n",
      "conventions\n",
      "in\n",
      "the\n",
      "several\n",
      "States,\n",
      "as\n",
      "provided\n",
      "in\n",
      "the\n",
      "Constitution,\n",
      "within\n",
      "seven\n",
      "years\n",
      "from\n",
      "the\n",
      "date\n",
      "of\n",
      "the\n",
      "submission\n",
      "hereof\n",
      "to\n",
      "the\n",
      "States\n",
      "by\n",
      "the\n",
      "Congress.\n",
      "22nd\n",
      "Amendment\n",
      "Section\n",
      "1\n",
      "Human: What is the result of multiplying the number of amendments by 3?\u001b[0m\n",
      "\n",
      "\u001b[1m> Finished chain.\u001b[0m\n",
      "\n",
      "\u001b[1m> Finished chain.\u001b[0m\n",
      "{'question': 'Multiply the number of amendments by 3.', 'chat_history': [HumanMessage(content='What is the Bill of Rights?'), AIMessage(content='The Bill of Rights refers to the first ten amendments to the United States Constitution. These amendments outline specific rights and protections for individuals, such as freedom of speech, religion, and the right to bear arms.'), HumanMessage(content='Multiply the number of amendments by 3.'), AIMessage(content='The number of amendments mentioned in the context is 4. Therefore, multiplying 4 by 3 gives you a result of 12.')], 'answer': 'The number of amendments mentioned in the context is 4. Therefore, multiplying 4 by 3 gives you a result of 12.'}\n"
     ]
    }
   ],
   "source": [
    "q = \"Multiply the number of amendments by 3.\"\n",
    "\n",
    "answer = ask_question(q, crc)\n",
    "\n",
    "print(answer)"
   ]
  },
  {
   "cell_type": "markdown",
   "id": "57f658ab",
   "metadata": {},
   "source": [
    "# Using Chroma"
   ]
  },
  {
   "cell_type": "code",
   "execution_count": 48,
   "id": "14355d75",
   "metadata": {},
   "outputs": [],
   "source": [
    "def create_embeddings_chroma(chunks, persist_directory=\"./chroma\"):\n",
    "    from langchain_community.vectorstores import Chroma\n",
    "    from langchain_openai import OpenAIEmbeddings\n",
    "\n",
    "    embeddings = OpenAIEmbeddings(model='text-embedding-3-small', dimensions=1536)\n",
    "    vector_store = Chroma.from_documents(chunks, embeddings, persist_directory=persist_directory)\n",
    "\n",
    "    return vector_store"
   ]
  },
  {
   "cell_type": "code",
   "execution_count": 58,
   "id": "d61b23b3",
   "metadata": {},
   "outputs": [],
   "source": [
    "def load_embeddings_chroma(persist_directory=\"./chroma\"):\n",
    "    from langchain_community.vectorstores import Chroma\n",
    "    from langchain_openai import OpenAIEmbeddings\n",
    "\n",
    "    embeddings = OpenAIEmbeddings(model='text-embedding-3-small', dimensions=1536)\n",
    "    vector_store = Chroma(persist_directory=persist_directory, embedding_function=embeddings)\n",
    "\n",
    "    return vector_store"
   ]
  },
  {
   "cell_type": "code",
   "execution_count": 54,
   "id": "5e099491",
   "metadata": {},
   "outputs": [
    {
     "name": "stdout",
     "output_type": "stream",
     "text": [
      "Loading files/us_constitution.pdf\n"
     ]
    }
   ],
   "source": [
    "data = load_document('files/us_constitution.pdf')\n",
    "chunks = chunk_data(data)\n",
    "vector_store = create_embeddings_chroma(chunks)"
   ]
  },
  {
   "cell_type": "code",
   "execution_count": 55,
   "id": "806c41b2",
   "metadata": {},
   "outputs": [
    {
     "name": "stdout",
     "output_type": "stream",
     "text": [
      "{'query': 'What is the Bill of Rights?', 'result': 'The Bill of Rights refers to the first ten amendments to the United States Constitution that outline specific individual rights and freedoms, such as freedom of speech, religion, and the right to a fair trial.'}\n"
     ]
    }
   ],
   "source": [
    "q = \"What is the Bill of Rights?\"\n",
    "\n",
    "answer = ask_and_get_answer(vector_store, q)\n",
    "\n",
    "print(answer)"
   ]
  },
  {
   "cell_type": "code",
   "execution_count": 60,
   "id": "9e83b4be",
   "metadata": {},
   "outputs": [],
   "source": [
    "db = load_embeddings_chroma()"
   ]
  },
  {
   "cell_type": "code",
   "execution_count": 62,
   "id": "f7affa1e",
   "metadata": {},
   "outputs": [
    {
     "data": {
      "text/plain": [
       "[Document(metadata={'page': 0, 'source': 'files/us_constitution.pdf'}, page_content='The\\nUnited\\nStates\\nConstitution\\nW e\\nthe\\nPeople\\nof\\nthe\\nUnited\\nStates,\\nin\\nOrder\\nto\\nform\\na\\nmore\\nperfect\\nUnion,\\nestablish\\nJustice,\\ninsure\\ndomestic\\nT ranquility ,\\nprovide\\nfor\\nthe\\ncommon\\ndefence,\\npromote\\nthe\\ngeneral\\nW elfare,\\nand\\nsecure\\nthe\\nBlessings\\nof\\nLiberty'),\n",
       " Document(metadata={'page': 0, 'source': 'files/us_constitution.pdf'}, page_content='The\\nUnited\\nStates\\nConstitution\\nW e\\nthe\\nPeople\\nof\\nthe\\nUnited\\nStates,\\nin\\nOrder\\nto\\nform\\na\\nmore\\nperfect\\nUnion,\\nestablish\\nJustice,\\ninsure\\ndomestic\\nT ranquility ,\\nprovide\\nfor\\nthe\\ncommon\\ndefence,\\npromote\\nthe\\ngeneral\\nW elfare,\\nand\\nsecure\\nthe\\nBlessings\\nof\\nLiberty'),\n",
       " Document(metadata={'page': 7, 'source': 'files/us_constitution.pdf'}, page_content='Bill.\\nSection\\n8:\\nPowers\\nof\\nCongress\\nThe\\nCongress\\nshall\\nhave\\nPower\\nT o\\nlay\\nand\\ncollect\\nT axes,\\nDuties,\\nImposts\\nand\\nExcises,\\nto\\npay\\nthe\\nDebts\\nand\\nprovide\\nfor\\nthe\\ncommon\\nDefence\\nand\\ngeneral\\nW elfare\\nof\\nthe\\nUnited\\nStates;\\nbut\\nall\\nDuties,\\nImposts\\nand\\nExcises')]"
      ]
     },
     "execution_count": 62,
     "metadata": {},
     "output_type": "execute_result"
    }
   ],
   "source": [
    "db.search(\"What is the Bill of Rights?\", search_type='similarity', k=3)"
   ]
  },
  {
   "cell_type": "code",
   "execution_count": null,
   "id": "b8e9ed13",
   "metadata": {},
   "outputs": [],
   "source": []
  }
 ],
 "metadata": {
  "kernelspec": {
   "display_name": "Python 3 (ipykernel)",
   "language": "python",
   "name": "python3"
  },
  "language_info": {
   "codemirror_mode": {
    "name": "ipython",
    "version": 3
   },
   "file_extension": ".py",
   "mimetype": "text/x-python",
   "name": "python",
   "nbconvert_exporter": "python",
   "pygments_lexer": "ipython3",
   "version": "3.10.12"
  },
  "widgets": {
   "application/vnd.jupyter.widget-state+json": {
    "state": {},
    "version_major": 2,
    "version_minor": 0
   }
  }
 },
 "nbformat": 4,
 "nbformat_minor": 5
}
